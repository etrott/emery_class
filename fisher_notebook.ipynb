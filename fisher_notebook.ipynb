{
 "cells": [
  {
   "cell_type": "code",
   "execution_count": 1,
   "metadata": {},
   "outputs": [],
   "source": [
    "from classy import Class\n",
    "import numpy as np\n",
    "from numpy import linalg\n",
    "%matplotlib inline\n",
    "import fisher_mod as fmod"
   ]
  },
  {
   "cell_type": "code",
   "execution_count": 5,
   "metadata": {},
   "outputs": [
    {
     "name": "stdout",
     "output_type": "stream",
     "text": [
      "omega_b :  0.000157054693234\n",
      "omega_dmeff :  0.00154028581188\n",
      "H0 :  0.687868996217\n",
      "n_s :  0.00433060336176\n",
      "A_s :  2.05584009475e-11\n",
      "tau_reio :  0.00445081293567\n",
      "cc_dmeff_p :  14740.8542111\n",
      "p_cc :  7.08113789852e-30\n"
     ]
    }
   ],
   "source": [
    "master = {'run': False,\n",
    "          'dmeff_mass': 1.,\n",
    "          'fname': '1GeV',\n",
    "          'survey': 'planck',\n",
    "          'polarization': True}\n",
    "fmod.evaluate(master)"
   ]
  },
  {
   "cell_type": "code",
   "execution_count": null,
   "metadata": {
    "collapsed": true
   },
   "outputs": [],
   "source": []
  }
 ],
 "metadata": {
  "kernelspec": {
   "display_name": "Python 2",
   "language": "python",
   "name": "python2"
  },
  "language_info": {
   "codemirror_mode": {
    "name": "ipython",
    "version": 2
   },
   "file_extension": ".py",
   "mimetype": "text/x-python",
   "name": "python",
   "nbconvert_exporter": "python",
   "pygments_lexer": "ipython2",
   "version": "2.7.13"
  }
 },
 "nbformat": 4,
 "nbformat_minor": 2
}
