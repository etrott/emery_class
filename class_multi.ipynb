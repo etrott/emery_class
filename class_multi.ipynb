{
 "cells": [
  {
   "cell_type": "code",
   "execution_count": 2,
   "metadata": {
    "collapsed": true
   },
   "outputs": [],
   "source": [
    "from classy import Class\n",
    "import numpy as np\n",
    "import matplotlib as mpl\n",
    "import matplotlib.pyplot as plt\n",
    "from math import pi\n",
    "%matplotlib inline\n",
    "font = {'family':'serif','weight':'normal','size':12}\n",
    "mpl.rcParams['xtick.major.size'] = 7\n",
    "mpl.rcParams['xtick.major.width'] = 1\n",
    "mpl.rcParams['xtick.minor.size'] = 3\n",
    "mpl.rcParams['xtick.minor.width'] = 1\n",
    "mpl.rcParams['ytick.major.size'] = 7\n",
    "mpl.rcParams['ytick.major.width'] = 1\n",
    "mpl.rcParams['ytick.minor.size'] = 3\n",
    "mpl.rcParams['ytick.minor.width'] = 1\n",
    "mpl.rcParams['axes.labelsize'] = 16\n",
    "mpl.rc('font', **font)"
   ]
  },
  {
   "cell_type": "code",
   "execution_count": 15,
   "metadata": {
    "collapsed": true
   },
   "outputs": [],
   "source": [
    "#Runs CLASS with the specified parameters (all unspecified are default)\n",
    "cosmo = Class()\n",
    "params = {'output': 'tCl,pCl,lCl','h': 0.67,'lensing':'yes'}\n",
    "#params = {'output':'tCl,lCl','omega_b':0.020068,'lensing':'yes'}\n",
    "cosmo.set(params)\n",
    "cosmo.compute()"
   ]
  },
  {
   "cell_type": "code",
   "execution_count": 25,
   "metadata": {},
   "outputs": [
    {
     "name": "stdout",
     "output_type": "stream",
     "text": [
      "2501\n"
     ]
    }
   ],
   "source": [
    "#import data from run 1\n",
    "lensed_cl = cosmo.lensed_cl(2500)\n",
    "print len(lensed_cl_high['ell'])"
   ]
  },
  {
   "cell_type": "code",
   "execution_count": 17,
   "metadata": {},
   "outputs": [],
   "source": [
    "#Runs CLASS again with a different set of specified parameters\n",
    "#Yet to figure out how to combine the two runs into one by using\n",
    "#a parameter dictionary with multiple entries for h\n",
    "cosmo = Class()\n",
    "params = {'output': 'tCl,pCl,lCl','h': 0.72,'lensing':'yes'}\n",
    "#params = {'output':'tCl,lCl','omega_b':0.022068,'lensing':'yes'}\n",
    "cosmo.set(params)\n",
    "cosmo.compute()"
   ]
  },
  {
   "cell_type": "code",
   "execution_count": 24,
   "metadata": {},
   "outputs": [
    {
     "name": "stdout",
     "output_type": "stream",
     "text": [
      "2501\n"
     ]
    }
   ],
   "source": [
    "#import data from run 1\n",
    "lensed_cl_high = cosmo.lensed_cl(2500)\n",
    "print len(lensed_cl_high['ell'])"
   ]
  },
  {
   "cell_type": "code",
   "execution_count": 19,
   "metadata": {},
   "outputs": [
    {
     "data": {
      "text/plain": [
       "<matplotlib.legend.Legend at 0x10e9cce90>"
      ]
     },
     "execution_count": 19,
     "metadata": {},
     "output_type": "execute_result"
    },
    {
     "data": {
      "image/png": "[encoded data removed]",
      "text/plain": [
       "<matplotlib.figure.Figure at 0x10ac2e090>"
      ]
     },
     "metadata": {},
     "output_type": "display_data"
    }
   ],
   "source": [
    "#Plotting\n",
    "factor = lensed_cl['ell']*(lensed_cl['ell']+1)/(2*np.pi)\n",
    "fig,ax = plt.subplots()\n",
    "ax.loglog(lensed_cl['ell'],factor*lensed_cl['tt'],label = '$h = 0.62$')\n",
    "ax.loglog(lensed_cl_high['ell'],factor*lensed_cl_high['tt'],label = '$h = 0.72$')\n",
    "plt.xlabel(r'$\\ell$')\n",
    "plt.ylabel(r'$\\ell(\\ell+1)C_\\ell/2\\pi$')\n",
    "plt.xlim(2,3000)\n",
    "plt.ylim(10**-11,10**-9)\n",
    "plt.legend(frameon = False,loc = 'lower left')"
   ]
  },
  {
   "cell_type": "code",
   "execution_count": null,
   "metadata": {
    "collapsed": true
   },
   "outputs": [],
   "source": []
  }
 ],
 "metadata": {
  "kernelspec": {
   "display_name": "Python 2",
   "language": "python",
   "name": "python2"
  },
  "language_info": {
   "codemirror_mode": {
    "name": "ipython",
    "version": 2
   },
   "file_extension": ".py",
   "mimetype": "text/x-python",
   "name": "python",
   "nbconvert_exporter": "python",
   "pygments_lexer": "ipython2",
   "version": "2.7.13"
  }
 },
 "nbformat": 4,
 "nbformat_minor": 2
}
